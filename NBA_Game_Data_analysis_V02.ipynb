{
 "cells": [
  {
   "cell_type": "code",
   "execution_count": 4,
   "id": "30a2ebba-ed91-4089-961a-0fa42b655886",
   "metadata": {},
   "outputs": [
    {
     "ename": "ValueError",
     "evalue": "max() arg is an empty sequence",
     "output_type": "error",
     "traceback": [
      "\u001b[0;31m---------------------------------------------------------------------------\u001b[0m",
      "\u001b[0;31mValueError\u001b[0m                                Traceback (most recent call last)",
      "Cell \u001b[0;32mIn[4], line 16\u001b[0m\n\u001b[1;32m     14\u001b[0m \u001b[38;5;66;03m# Find and load the most recent cleaned game data file\u001b[39;00m\n\u001b[1;32m     15\u001b[0m clean_files \u001b[38;5;241m=\u001b[39m glob\u001b[38;5;241m.\u001b[39mglob(\u001b[38;5;124m'\u001b[39m\u001b[38;5;124m../data/processed/nba_games_clean_*.csv\u001b[39m\u001b[38;5;124m'\u001b[39m)\n\u001b[0;32m---> 16\u001b[0m latest_file \u001b[38;5;241m=\u001b[39m \u001b[38;5;28;43mmax\u001b[39;49m\u001b[43m(\u001b[49m\u001b[43mclean_files\u001b[49m\u001b[43m,\u001b[49m\u001b[43m \u001b[49m\u001b[43mkey\u001b[49m\u001b[38;5;241;43m=\u001b[39;49m\u001b[43mos\u001b[49m\u001b[38;5;241;43m.\u001b[39;49m\u001b[43mpath\u001b[49m\u001b[38;5;241;43m.\u001b[39;49m\u001b[43mgetctime\u001b[49m\u001b[43m)\u001b[49m\n\u001b[1;32m     17\u001b[0m \u001b[38;5;28mprint\u001b[39m(\u001b[38;5;124mf\u001b[39m\u001b[38;5;124m\"\u001b[39m\u001b[38;5;124mLoading clean NBA data from: \u001b[39m\u001b[38;5;132;01m{\u001b[39;00mlatest_file\u001b[38;5;132;01m}\u001b[39;00m\u001b[38;5;124m\"\u001b[39m)\n\u001b[1;32m     19\u001b[0m \u001b[38;5;66;03m# Load the data\u001b[39;00m\n",
      "\u001b[0;31mValueError\u001b[0m: max() arg is an empty sequence"
     ]
    }
   ],
   "source": [
    "import pandas as pd\n",
    "import numpy as np\n",
    "import matplotlib.pyplot as plt\n",
    "import seaborn as sns\n",
    "import glob\n",
    "import os\n",
    "from datetime import datetime\n",
    "\n",
    "\n",
    "# Set visualization styles\n",
    "plt.style.use('fivethirtyeight')\n",
    "%matplotlib inline\n",
    "\n",
    "# Find and load the most recent cleaned game data file\n",
    "clean_files = glob.glob('../data/processed/nba_games_clean_*.csv')\n",
    "latest_file = max(clean_files, key=os.path.getctime)\n",
    "print(f\"Loading clean NBA data from: {latest_file}\")\n",
    "\n",
    "# Load the data\n",
    "games_df = pd.read_csv(latest_file)\n",
    "\n",
    "# Convert date to datetime\n",
    "games_df['GAME_DATE'] = pd.to_datetime(games_df['GAME_DATE'])\n",
    "\n",
    "# Add some useful derived columns\n",
    "games_df['HOME'] = games_df['MATCHUP'].str.contains('vs').astype(int)\n",
    "games_df['WIN'] = (games_df['WL'] == 'W').astype(int)\n",
    "\n",
    "# Check basic stats and data types\n",
    "print(f\"Data shape: {games_df.shape}\")\n",
    "print(f\"Date range: {games_df['GAME_DATE'].min()} to {games_df['GAME_DATE'].max()}\")\n",
    "print(f\"Seasons included: {sorted(games_df['SEASON'].unique())}\")\n",
    "print(f\"Number of teams: {games_df['TEAM_NAME'].nunique()}\")\n",
    "\n",
    "# Show a few rows to understand the structure\n",
    "games_df.head()"
   ]
  },
  {
   "cell_type": "code",
   "execution_count": null,
   "id": "f07dd0fd-7b87-48d4-9a8d-76de8551b17b",
   "metadata": {},
   "outputs": [],
   "source": []
  }
 ],
 "metadata": {
  "kernelspec": {
   "display_name": "Python 3 (ipykernel)",
   "language": "python",
   "name": "python3"
  },
  "language_info": {
   "codemirror_mode": {
    "name": "ipython",
    "version": 3
   },
   "file_extension": ".py",
   "mimetype": "text/x-python",
   "name": "python",
   "nbconvert_exporter": "python",
   "pygments_lexer": "ipython3",
   "version": "3.10.12"
  }
 },
 "nbformat": 4,
 "nbformat_minor": 5
}
