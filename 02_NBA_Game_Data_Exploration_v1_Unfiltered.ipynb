{
 "cells": [
  {
   "cell_type": "code",
   "execution_count": 1,
   "id": "dbef3268-b58c-48ca-bccb-a70851b0732d",
   "metadata": {},
   "outputs": [
    {
     "ename": "ValueError",
     "evalue": "max() arg is an empty sequence",
     "output_type": "error",
     "traceback": [
      "\u001b[0;31m---------------------------------------------------------------------------\u001b[0m",
      "\u001b[0;31mValueError\u001b[0m                                Traceback (most recent call last)",
      "Cell \u001b[0;32mIn[1], line 16\u001b[0m\n\u001b[1;32m     14\u001b[0m \u001b[38;5;66;03m# Find the most recent cleaned game data file\u001b[39;00m\n\u001b[1;32m     15\u001b[0m clean_files \u001b[38;5;241m=\u001b[39m glob\u001b[38;5;241m.\u001b[39mglob(\u001b[38;5;124m'\u001b[39m\u001b[38;5;124m../data/processed/nba_games_clean_*.csv\u001b[39m\u001b[38;5;124m'\u001b[39m)\n\u001b[0;32m---> 16\u001b[0m latest_file \u001b[38;5;241m=\u001b[39m \u001b[38;5;28;43mmax\u001b[39;49m\u001b[43m(\u001b[49m\u001b[43mclean_files\u001b[49m\u001b[43m,\u001b[49m\u001b[43m \u001b[49m\u001b[43mkey\u001b[49m\u001b[38;5;241;43m=\u001b[39;49m\u001b[43mos\u001b[49m\u001b[38;5;241;43m.\u001b[39;49m\u001b[43mpath\u001b[49m\u001b[38;5;241;43m.\u001b[39;49m\u001b[43mgetctime\u001b[49m\u001b[43m)\u001b[49m\n\u001b[1;32m     17\u001b[0m \u001b[38;5;28mprint\u001b[39m(\u001b[38;5;124mf\u001b[39m\u001b[38;5;124m\"\u001b[39m\u001b[38;5;124mLoading clean NBA data from: \u001b[39m\u001b[38;5;132;01m{\u001b[39;00mlatest_file\u001b[38;5;132;01m}\u001b[39;00m\u001b[38;5;124m\"\u001b[39m)\n\u001b[1;32m     19\u001b[0m \u001b[38;5;66;03m# Load the data\u001b[39;00m\n",
      "\u001b[0;31mValueError\u001b[0m: max() arg is an empty sequence"
     ]
    }
   ],
   "source": [
    "# Load the clean NBA game data\n",
    "import pandas as pd\n",
    "import matplotlib.pyplot as plt\n",
    "import seaborn as sns\n",
    "import numpy as np\n",
    "import glob\n",
    "import os\n",
    "from datetime import datetime\n",
    "\n",
    "# Set visualization style\n",
    "plt.style.use('fivethirtyeight')\n",
    "%matplotlib inline\n",
    "\n",
    "# Find the most recent cleaned game data file\n",
    "clean_files = glob.glob('../data/processed/nba_games_clean_*.csv')\n",
    "latest_file = max(clean_files, key=os.path.getctime)\n",
    "print(f\"Loading clean NBA data from: {latest_file}\")\n",
    "\n",
    "# Load the data\n",
    "games_df = pd.read_csv(latest_file)\n",
    "\n",
    "# Convert date column to datetime\n",
    "games_df['GAME_DATE'] = pd.to_datetime(games_df['GAME_DATE'])\n",
    "\n",
    "# Basic information about the dataset\n",
    "print(f\"Dataset shape: {games_df.shape}\")\n",
    "print(f\"Seasons covered: {sorted(games_df['SEASON'].unique())}\")\n",
    "print(f\"Date range: {games_df['GAME_DATE'].min()} to {games_df['GAME_DATE'].max()}\")\n",
    "print(f\"Unique games: {games_df['GAME_ID'].nunique()}\")\n",
    "print(f\"Unique teams: {games_df['TEAM_NAME'].nunique()}\")\n",
    "\n",
    "# Display the first few rows to understand structure\n",
    "games_df.head()"
   ]
  },
  {
   "cell_type": "code",
   "execution_count": null,
   "id": "729b75f7-e6c9-403c-b7f6-af3ebd824b76",
   "metadata": {},
   "outputs": [],
   "source": []
  }
 ],
 "metadata": {
  "kernelspec": {
   "display_name": "Python 3 (ipykernel)",
   "language": "python",
   "name": "python3"
  },
  "language_info": {
   "codemirror_mode": {
    "name": "ipython",
    "version": 3
   },
   "file_extension": ".py",
   "mimetype": "text/x-python",
   "name": "python",
   "nbconvert_exporter": "python",
   "pygments_lexer": "ipython3",
   "version": "3.10.12"
  }
 },
 "nbformat": 4,
 "nbformat_minor": 5
}
