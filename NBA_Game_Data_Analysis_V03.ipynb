{
 "cells": [
  {
   "cell_type": "code",
   "execution_count": 3,
   "id": "cb7b401b-97ee-461a-9daf-d78baed8c1fb",
   "metadata": {},
   "outputs": [
    {
     "ename": "FileNotFoundError",
     "evalue": "No cleaned NBA game data files found. Please run the data collection script first.",
     "output_type": "error",
     "traceback": [
      "\u001b[0;31m---------------------------------------------------------------------------\u001b[0m",
      "\u001b[0;31mFileNotFoundError\u001b[0m                         Traceback (most recent call last)",
      "Cell \u001b[0;32mIn[3], line 23\u001b[0m\n\u001b[1;32m     21\u001b[0m \u001b[38;5;66;03m# Find and load the most recent cleaned game data file\u001b[39;00m\n\u001b[1;32m     22\u001b[0m \u001b[38;5;28;01mif\u001b[39;00m \u001b[38;5;129;01mnot\u001b[39;00m clean_files:\n\u001b[0;32m---> 23\u001b[0m     \u001b[38;5;28;01mraise\u001b[39;00m \u001b[38;5;167;01mFileNotFoundError\u001b[39;00m(\u001b[38;5;124m\"\u001b[39m\u001b[38;5;124mNo cleaned NBA game data files found. Please run the data collection script first.\u001b[39m\u001b[38;5;124m\"\u001b[39m)\n\u001b[1;32m     24\u001b[0m \u001b[38;5;66;03m# Find and load the most recent cleaned game data file\u001b[39;00m\n\u001b[1;32m     25\u001b[0m clean_files \u001b[38;5;241m=\u001b[39m glob\u001b[38;5;241m.\u001b[39mglob(\u001b[38;5;124m'\u001b[39m\u001b[38;5;124m../data/processed/nba_games_clean_*.csv\u001b[39m\u001b[38;5;124m'\u001b[39m)\n",
      "\u001b[0;31mFileNotFoundError\u001b[0m: No cleaned NBA game data files found. Please run the data collection script first."
     ]
    }
   ],
   "source": [
    "# NBA Game Data Analysis\n",
    "\n",
    "## This notebook analyzes clean NBA game data from the 2017-18 through 2023-24 seasons to identify patterns that will inform our prediction model. The data has been filtered to include only regular season and playoff games for the 30 official NBA teams.\n",
    "\n",
    "## Data Loading and Overview\n",
    "    \n",
    "# Import necessary libraries\n",
    "import pandas as pd\n",
    "import numpy as np\n",
    "import matplotlib.pyplot as plt\n",
    "import seaborn as sns\n",
    "import glob\n",
    "import os\n",
    "from datetime import datetime\n",
    "\n",
    "# Set visualization styles for better-looking plots\n",
    "plt.style.use('fivethirtyeight')\n",
    "%matplotlib inline\n",
    "plt.rcParams['figure.figsize'] = (12, 8)\n",
    "plt.rcParams['font.size'] = 12\n",
    "# Find and load the most recent cleaned game data file\n",
    "if not clean_files:\n",
    "    raise FileNotFoundError(\"No cleaned NBA game data files found. Please run the data collection script first.\")\n",
    "# Find and load the most recent cleaned game data file\n",
    "clean_files = glob.glob('../data/processed/nba_games_clean_*.csv')\n",
    "latest_file = max(clean_files, key=os.path.getctime)\n",
    "print(f\"Loading clean NBA data from: {latest_file}\")\n",
    "\n",
    "# Find and load the most recent cleaned game data file\n",
    "if not clean_files:\n",
    "    raise FileNotFoundError(\"No cleaned NBA game data files found. Please run the data collection script first.\")\n",
    "    \n",
    "latest_file = max(clean_files, key=os.path.getctime)\n",
    "print(f\"Loading clean NBA data from: {latest_file}\")\n",
    "\n",
    "# Load the data\n",
    "games_df = pd.read_csv(latest_file)\n",
    "\n",
    "# Load the data\n",
    "games_df = pd.read_csv(latest_file)\n",
    "\n",
    "# Convert date to datetime\n",
    "games_df['GAME_DATE'] = pd.to_datetime(games_df['GAME_DATE'])\n",
    "\n",
    "# Add some useful derived columns\n",
    "games_df['HOME'] = games_df['MATCHUP'].str.contains('vs').astype(int)\n",
    "games_df['WIN'] = (games_df['WL'] == 'W').astype(int)\n",
    "\n",
    "# Display basic information about the dataset\n",
    "print(f\"Dataset shape: {games_df.shape} (rows, columns)\")\n",
    "print(f\"Seasons covered: {sorted(games_df['SEASON'].unique())}\")\n",
    "print(f\"Date range: {pd.to_datetime(games_df['GAME_DATE']).min().strftime('%Y-%m-%d')} to {pd.to_datetime(games_df['GAME_DATE']).max().strftime('%Y-%m-%d')}\")\n",
    "print(f\"Unique games: {games_df['GAME_ID'].nunique()}\")\n",
    "print(f\"Unique teams: {games_df['TEAM_NAME'].nunique()}\")\n",
    "\n",
    "# Check basic stats and data types\n",
    "print(f\"Data shape: {games_df.shape}\")\n",
    "print(f\"Date range: {games_df['GAME_DATE'].min()} to {games_df['GAME_DATE'].max()}\")\n",
    "print(f\"Seasons included: {sorted(games_df['SEASON'].unique())}\")\n",
    "print(f\"Number of teams: {games_df['TEAM_NAME'].nunique()}\")\n",
    "\n",
    "# Show a few rows to understand the structure\n",
    "games_df.head()\n"
   ]
  },
  {
   "cell_type": "code",
   "execution_count": null,
   "id": "08c7a1f9-4707-4f85-a383-8dd0dc764e48",
   "metadata": {},
   "outputs": [],
   "source": []
  }
 ],
 "metadata": {
  "kernelspec": {
   "display_name": "Python 3 (ipykernel)",
   "language": "python",
   "name": "python3"
  },
  "language_info": {
   "codemirror_mode": {
    "name": "ipython",
    "version": 3
   },
   "file_extension": ".py",
   "mimetype": "text/x-python",
   "name": "python",
   "nbconvert_exporter": "python",
   "pygments_lexer": "ipython3",
   "version": "3.10.12"
  }
 },
 "nbformat": 4,
 "nbformat_minor": 5
}
